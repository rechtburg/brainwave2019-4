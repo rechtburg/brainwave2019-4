{
 "cells": [
  {
   "cell_type": "code",
   "execution_count": null,
   "metadata": {},
   "outputs": [],
   "source": [
    "import pandas as pd"
   ]
  },
  {
   "cell_type": "code",
   "execution_count": null,
   "metadata": {},
   "outputs": [],
   "source": [
    "times = []\n",
    "with open('R1_time.txt') as f:\n",
    "    for line in f:\n",
    "        times.append(line.split('\\t')[2].rstrip('\\n'))\n",
    "times"
   ]
  },
  {
   "cell_type": "code",
   "execution_count": null,
   "metadata": {},
   "outputs": [],
   "source": [
    "#ストップウォッチのデータ\n",
    "#コロンを除去\n",
    "array=[]\n",
    "array_times=[]\n",
    "for i in range(len(times)):\n",
    "    array.append(times[i].split(':'))\n",
    "#秒に変換\n",
    "for x in range(len(array)):\n",
    "        array_times.append((float(array[x][0])*3600+float(array[x][1])*60+float(array[x][2])))\n",
    "array_times[18]=225.33\n",
    "array_times[30]=165.42\n",
    "array_times[42]=105.54\n",
    "array_times"
   ]
  },
  {
   "cell_type": "code",
   "execution_count": null,
   "metadata": {},
   "outputs": [],
   "source": [
    "#脳波のデータ\n",
    "R1 = pd.read_csv('R1.txt', names=['time', 'ch1', 'ch2', 'ch3', 'ch4'])\n",
    "R1['move'] = 0"
   ]
  },
  {
   "cell_type": "code",
   "execution_count": null,
   "metadata": {},
   "outputs": [],
   "source": [
    "for time in array_times:\n",
    "    i=abs(R1['time'] - time).idxmin()#array_timesとtimeでの時間が同じ点を取る\n",
    "    R1.at[R1.index[i],'move']=1\n",
    "R1"
   ]
  },
  {
   "cell_type": "code",
   "execution_count": null,
   "metadata": {},
   "outputs": [],
   "source": []
  }
 ],
 "metadata": {
  "kernelspec": {
   "display_name": "Python 3",
   "language": "python",
   "name": "python3"
  },
  "language_info": {
   "codemirror_mode": {
    "name": "ipython",
    "version": 3
   },
   "file_extension": ".py",
   "mimetype": "text/x-python",
   "name": "python",
   "nbconvert_exporter": "python",
   "pygments_lexer": "ipython3",
   "version": "3.7.3"
  }
 },
 "nbformat": 4,
 "nbformat_minor": 2
}
