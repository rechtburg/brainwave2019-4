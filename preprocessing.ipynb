{
 "cells": [
  {
   "cell_type": "code",
   "execution_count": null,
   "metadata": {},
   "outputs": [],
   "source": [
    "import pandas as pd\n",
    "import numpy as np"
   ]
  },
  {
   "cell_type": "code",
   "execution_count": null,
   "metadata": {},
   "outputs": [],
   "source": [
    "times = []\n",
    "with open('R1_time.txt') as f:\n",
    "    for line in f:\n",
    "        times.append(line.split('\\t')[2].rstrip('\\n'))\n",
    "times"
   ]
  },
  {
   "cell_type": "code",
   "execution_count": null,
   "metadata": {},
   "outputs": [],
   "source": [
    "#ストップウォッチのデータ\n",
    "#コロンを除去\n",
    "array=[]\n",
    "array_times=[]\n",
    "for i in range(len(times)):\n",
    "    array.append(times[i].split(':'))\n",
    "#秒に変換\n",
    "for x in range(len(array)):\n",
    "        array_times.append((float(array[x][0])*3600+float(array[x][1])*60+float(array[x][2])))\n",
    "array_times[18]=225.33\n",
    "array_times[30]=165.42\n",
    "array_times[42]=105.54\n",
    "array_times"
   ]
  },
  {
   "cell_type": "code",
   "execution_count": null,
   "metadata": {},
   "outputs": [],
   "source": [
    "#脳波のデータ\n",
    "R1 = pd.read_csv('R1.txt', names=['time', 'ch1', 'ch2', 'ch3', 'ch4'])\n",
    "R1['move'] = 0"
   ]
  },
  {
   "cell_type": "code",
   "execution_count": null,
   "metadata": {},
   "outputs": [],
   "source": [
    "for time in array_times:\n",
    "    i=abs(R1['time'] - time).idxmin()#array_timesとtimeでの時間が同じ点を取る\n",
    "    if file[0]=='R':\n",
    "        R1.at[R1.index[i],'move']=1\n",
    "    else:\n",
    "        R1.at[R1.index[i],'move']=-1\n",
    "R1"
   ]
  },
  {
   "cell_type": "code",
   "execution_count": null,
   "metadata": {},
   "outputs": [],
   "source": [
    "def preprocessing(file):\n",
    "    times = []\n",
    "    array=[]\n",
    "    array_times=[]\n",
    "    with open(file[:2] + '_time.txt') as f:\n",
    "        for line in f:\n",
    "            times.append(line.split('\\t')[2].rstrip('\\n'))\n",
    "    \n",
    "        for i in range(len(times)):\n",
    "            array.append(times[i].split(':'))\n",
    "    #秒に変換\n",
    "        for x in range(len(array)):\n",
    "            array_times.append((float(array[x][0])*3600+float(array[x][1])*60+float(array[x][2])))\n",
    "        \n",
    "        R1 = pd.read_csv(file, names=['time', 'ch1', 'ch2', 'ch3', 'ch4'])\n",
    "        R1['move'] = 0\n",
    "        for time in array_times:\n",
    "            i=abs(R1['time'] - time).idxmin()#array_timesとtimeでの時間が同じ点を取る\n",
    "            if file[0]=='R':\n",
    "                R1.at[R1.index[i],'move']=1\n",
    "            else:\n",
    "                R1.at[R1.index[i],'move']=-1\n",
    "                \n",
    "    return  R1[(R1['time'] > 30) & (R1['time'] < R1['time'].max()-20)]"
   ]
  },
  {
   "cell_type": "code",
   "execution_count": null,
   "metadata": {},
   "outputs": [],
   "source": [
    "A = preprocessing('R1.txt')\n",
    "#R1.iloc[350:400]"
   ]
  },
  {
   "cell_type": "code",
   "execution_count": null,
   "metadata": {},
   "outputs": [],
   "source": [
    "A"
   ]
  },
  {
   "cell_type": "code",
   "execution_count": null,
   "metadata": {},
   "outputs": [],
   "source": [
    "file[0]"
   ]
  },
  {
   "cell_type": "code",
   "execution_count": null,
   "metadata": {},
   "outputs": [],
   "source": [
    "R1[(R1['time'] > 30) & (R1['time'] < 60)]"
   ]
  },
  {
   "cell_type": "code",
   "execution_count": null,
   "metadata": {},
   "outputs": [],
   "source": [
    "\n",
    "t=np.zeros((7,1))\n",
    "print(t)\n",
    "t1=[]\n",
    "for i in t:\n",
    "    t1[i] = np.array(A['ch1'])[:(i-6)]\n",
    "    np.append(t,t[i])\n",
    "\n"
   ]
  },
  {
   "cell_type": "code",
   "execution_count": null,
   "metadata": {},
   "outputs": [],
   "source": [
    "np.array(A['ch1'])[:-6].shape"
   ]
  },
  {
   "cell_type": "code",
   "execution_count": null,
   "metadata": {},
   "outputs": [],
   "source": [
    "t_0 = np.array(A['ch1'])[:-6]\n",
    "t_1 = np.array(A['ch1'])[1:-5]"
   ]
  },
  {
   "cell_type": "code",
   "execution_count": null,
   "metadata": {},
   "outputs": [],
   "source": [
    "l = len(t_0)"
   ]
  },
  {
   "cell_type": "code",
   "execution_count": null,
   "metadata": {},
   "outputs": [],
   "source": [
    "B = pd.DataFrame(t_0, t_1)"
   ]
  },
  {
   "cell_type": "code",
   "execution_count": null,
   "metadata": {},
   "outputs": [],
   "source": [
    "np.array(A['time'])[3:-3].shape"
   ]
  },
  {
   "cell_type": "code",
   "execution_count": null,
   "metadata": {},
   "outputs": [],
   "source": [
    "B"
   ]
  },
  {
   "cell_type": "code",
   "execution_count": null,
   "metadata": {},
   "outputs": [],
   "source": []
  },
  {
   "cell_type": "code",
   "execution_count": null,
   "metadata": {},
   "outputs": [],
   "source": []
  },
  {
   "cell_type": "code",
   "execution_count": null,
   "metadata": {},
   "outputs": [],
   "source": []
  },
  {
   "cell_type": "code",
   "execution_count": null,
   "metadata": {},
   "outputs": [],
   "source": []
  },
  {
   "cell_type": "code",
   "execution_count": null,
   "metadata": {},
   "outputs": [],
   "source": []
  },
  {
   "cell_type": "code",
   "execution_count": null,
   "metadata": {},
   "outputs": [],
   "source": []
  },
  {
   "cell_type": "code",
   "execution_count": null,
   "metadata": {},
   "outputs": [],
   "source": []
  },
  {
   "cell_type": "code",
   "execution_count": null,
   "metadata": {},
   "outputs": [],
   "source": []
  },
  {
   "cell_type": "code",
   "execution_count": null,
   "metadata": {},
   "outputs": [],
   "source": []
  },
  {
   "cell_type": "code",
   "execution_count": null,
   "metadata": {},
   "outputs": [],
   "source": []
  },
  {
   "cell_type": "code",
   "execution_count": null,
   "metadata": {},
   "outputs": [],
   "source": []
  },
  {
   "cell_type": "code",
   "execution_count": null,
   "metadata": {},
   "outputs": [],
   "source": []
  },
  {
   "cell_type": "code",
   "execution_count": null,
   "metadata": {},
   "outputs": [],
   "source": []
  },
  {
   "cell_type": "code",
   "execution_count": null,
   "metadata": {},
   "outputs": [],
   "source": []
  },
  {
   "cell_type": "code",
   "execution_count": null,
   "metadata": {},
   "outputs": [],
   "source": []
  },
  {
   "cell_type": "code",
   "execution_count": null,
   "metadata": {},
   "outputs": [],
   "source": []
  },
  {
   "cell_type": "code",
   "execution_count": null,
   "metadata": {},
   "outputs": [],
   "source": []
  },
  {
   "cell_type": "code",
   "execution_count": null,
   "metadata": {},
   "outputs": [],
   "source": [
    "import matplotlib.pyplot as plt\n",
    "import numpy as np\n",
    "t1 = np.array(R1['time'][:-1])\n",
    "t2 = np.array(R1['time'][1:])\n",
    "x = t1\n",
    "y = t2 - t1\n",
    "plt.scatter(x, y)\n",
    "plt.show()"
   ]
  },
  {
   "cell_type": "code",
   "execution_count": null,
   "metadata": {},
   "outputs": [],
   "source": []
  },
  {
   "cell_type": "code",
   "execution_count": null,
   "metadata": {},
   "outputs": [],
   "source": []
  }
 ],
 "metadata": {
  "kernelspec": {
   "display_name": "Python 3",
   "language": "python",
   "name": "python3"
  },
  "language_info": {
   "codemirror_mode": {
    "name": "ipython",
    "version": 3
   },
   "file_extension": ".py",
   "mimetype": "text/x-python",
   "name": "python",
   "nbconvert_exporter": "python",
   "pygments_lexer": "ipython3",
   "version": "3.7.1"
  }
 },
 "nbformat": 4,
 "nbformat_minor": 2
}
