{
 "cells": [
  {
   "cell_type": "code",
   "execution_count": null,
   "metadata": {},
   "outputs": [],
   "source": [
    "import numpy as np\n",
    "import pandas as pd"
   ]
  },
  {
   "cell_type": "code",
   "execution_count": null,
   "metadata": {},
   "outputs": [],
   "source": [
    "def preprocessing(fname):\n",
    "    list_time = [] # time when fingers moved (str)\n",
    "    with open(fname + '_time.txt') as f:\n",
    "        for line in f:\n",
    "            list_time.append(line.split('\\t')[2].rstrip('\\n'))\n",
    "    list_seconds = [] # time when finger moved (float)\n",
    "    for time in list_time:\n",
    "        l = time.split(':')\n",
    "        list_seconds.append(float(l[0]) * 3600 + float(l[1]) * 60 + float(l[2]))\n",
    "    data = pd.read_csv(fname + '.txt', names=['time', 'ch1', 'ch2', 'ch3', 'ch4']) # wave data with time\n",
    "    data['move'] = 0 # movement of finger\n",
    "    for time in list_seconds: #match wave and the time fingers moved\n",
    "        i = abs(data['time'] - time).idxmin()\n",
    "        if fname[0] == 'R':\n",
    "            data.at[data.index[i], 'move'] = 1\n",
    "        else:\n",
    "            data.at[data.index[i], 'move'] = -1\n",
    "    data = data[(data['time'] > 30) & (data['time'] < data['time'].max() - 20)]\n",
    "    data['inner'] = data['ch3'] - data['ch2']\n",
    "    data['outer'] = data['ch4'] - data['ch1']\n",
    "    data = data.drop(['ch1', 'ch2', 'ch3', 'ch4'], axis=1).reset_index(drop=True)\n",
    "    n = len(data)\n",
    "    for i in range(n - 1):\n",
    "        if data.at[i + 1, 'time'] - data.at[i, 'time'] > 0.1:\n",
    "            data = data.append((data.loc[i] + data.loc[i + 1]) / 2, ignore_index=True)\n",
    "    data.loc[n:, 'move'] = 0\n",
    "    data.sort_values(by='time', ascending=False)\n",
    "    diff = pd.DataFrame(index=[], columns=['inner', 'outer'])\n",
    "    for i in range(len(data) - 1):\n",
    "        diff.loc[i] = data.loc[i + 1, ['inner', 'outer']] - data.loc[i, ['inner', 'outer']]\n",
    "    diff['move'] = data.loc[:len(data) - 1, 'move']\n",
    "    diff1= diff.loc[0:len(diff)-4].reset_index(drop=True)#divide into five\n",
    "    diff1= diff1.rename(columns={'inner': 'inner1', 'outer': 'outer1'}).drop('move',axis=1)\n",
    "    diff2= diff.loc[1:len(diff)-3].reset_index(drop=True)\n",
    "    diff2 = diff2.rename(columns={'inner': 'inner2', 'outer': 'outer2'}).drop('move',axis=1)\n",
    "    diff3 = diff.loc[2:len(diff)-2].reset_index(drop=True)\n",
    "    diff3 = diff3.rename(columns={'inner': 'inner3', 'outer': 'outer3'})\n",
    "    diff4 = diff.loc[3:len(diff)-1].reset_index(drop=True)\n",
    "    diff4 = diff4.rename(columns={'inner': 'inner4', 'outer': 'outer4'}).drop('move',axis=1)\n",
    "    diff5 = diff.loc[4:len(diff)].reset_index(drop=True)\n",
    "    diff5 = diff5.rename(columns={'inner': 'inner5', 'outer': 'outer5'}).drop('move',axis=1)\n",
    "    #merge\n",
    "    diff_all = pd.concat([diff1, diff2,diff3,diff4,diff5], axis=1)\n",
    "    #export as CSV file\n",
    "    diff_all.to_csv (fname+'.csv')"
   ]
  },
  {
   "cell_type": "code",
   "execution_count": null,
   "metadata": {},
   "outputs": [],
   "source": [
    "preprocessing('R1')"
   ]
  },
  {
   "cell_type": "code",
   "execution_count": null,
   "metadata": {},
   "outputs": [],
   "source": [
    "preprocessing('L1')"
   ]
  },
  {
   "cell_type": "code",
   "execution_count": null,
   "metadata": {},
   "outputs": [],
   "source": []
  },
  {
   "cell_type": "code",
   "execution_count": null,
   "metadata": {},
   "outputs": [],
   "source": []
  },
  {
   "cell_type": "code",
   "execution_count": null,
   "metadata": {},
   "outputs": [],
   "source": []
  },
  {
   "cell_type": "code",
   "execution_count": null,
   "metadata": {},
   "outputs": [],
   "source": []
  },
  {
   "cell_type": "code",
   "execution_count": null,
   "metadata": {},
   "outputs": [],
   "source": []
  },
  {
   "cell_type": "code",
   "execution_count": null,
   "metadata": {},
   "outputs": [],
   "source": []
  },
  {
   "cell_type": "code",
   "execution_count": null,
   "metadata": {},
   "outputs": [],
   "source": []
  },
  {
   "cell_type": "code",
   "execution_count": null,
   "metadata": {},
   "outputs": [],
   "source": []
  },
  {
   "cell_type": "code",
   "execution_count": null,
   "metadata": {},
   "outputs": [],
   "source": []
  },
  {
   "cell_type": "code",
   "execution_count": null,
   "metadata": {},
   "outputs": [],
   "source": []
  },
  {
   "cell_type": "code",
   "execution_count": null,
   "metadata": {},
   "outputs": [],
   "source": []
  },
  {
   "cell_type": "code",
   "execution_count": null,
   "metadata": {},
   "outputs": [],
   "source": []
  },
  {
   "cell_type": "code",
   "execution_count": null,
   "metadata": {},
   "outputs": [],
   "source": []
  },
  {
   "cell_type": "code",
   "execution_count": null,
   "metadata": {},
   "outputs": [],
   "source": []
  },
  {
   "cell_type": "code",
   "execution_count": null,
   "metadata": {},
   "outputs": [],
   "source": []
  },
  {
   "cell_type": "code",
   "execution_count": null,
   "metadata": {},
   "outputs": [],
   "source": [
    "import matplotlib.pyplot as plt\n",
    "import numpy as np\n",
    "t1 = np.array(R1['time'][:-1])\n",
    "t2 = np.array(R1['time'][1:])\n",
    "x = t1\n",
    "y = t2 - t1\n",
    "plt.scatter(x, y)\n",
    "plt.show()"
   ]
  },
  {
   "cell_type": "code",
   "execution_count": null,
   "metadata": {},
   "outputs": [],
   "source": []
  },
  {
   "cell_type": "code",
   "execution_count": null,
   "metadata": {},
   "outputs": [],
   "source": []
  }
 ],
 "metadata": {
  "kernelspec": {
   "display_name": "Python 3",
   "language": "python",
   "name": "python3"
  },
  "language_info": {
   "codemirror_mode": {
    "name": "ipython",
    "version": 3
   },
   "file_extension": ".py",
   "mimetype": "text/x-python",
   "name": "python",
   "nbconvert_exporter": "python",
   "pygments_lexer": "ipython3",
   "version": "3.7.3"
  }
 },
 "nbformat": 4,
 "nbformat_minor": 2
}
